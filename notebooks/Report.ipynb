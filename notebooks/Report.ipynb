{
 "cells": [
  {
   "cell_type": "markdown",
   "id": "4e315649",
   "metadata": {},
   "source": [
    "# Executive Summary"
   ]
  },
  {
   "cell_type": "markdown",
   "id": "94e66c52",
   "metadata": {},
   "source": [
    "- **Business Problem**: Incorporating advanced statistical analysis to stay competitive in the NBA by leveraging digital tracking tools to gather data on player performance, focusing on shot frequency and shooting efficiency.\n",
    "\n",
    "- **Objectives**: Deploy a predictive model for shot success to optimize player performance and inform strategic decisions, incorporating automated maintenance, performance monitoring, and iterative improvement aligned with MLOps practices.\n",
    "\n",
    "- **Scope**: Focus on historical shot data from the past 23 NBA seasons."
   ]
  },
  {
   "cell_type": "markdown",
   "id": "6dbbe841",
   "metadata": {},
   "source": [
    "# Detailed Specification"
   ]
  },
  {
   "cell_type": "markdown",
   "id": "c48be4a6",
   "metadata": {},
   "source": [
    "## Business Requirements"
   ]
  },
  {
   "cell_type": "markdown",
   "id": "92532afd",
   "metadata": {},
   "source": [
    "Incorporating advanced statistical analysis into our operations is crucial for staying competitive in the realm of American sports, particularly in the NBA. As technology continues to evolve, we recognize the importance of leveraging digital tracking tools to gather comprehensive data on player performance. By focusing on shot frequency and shooting efficiency among top NBA players, as identified by ESPN, we aim to gain valuable insights that can inform our strategic decisions and enhance our team’s performance on the court. This project aligns with our commitment to utilizing data-driven approaches to drive success in the highly competitive landscape of professional basketball."
   ]
  },
  {
   "cell_type": "markdown",
   "id": "f89a3055",
   "metadata": {},
   "source": [
    "### Technical Perspective:"
   ]
  },
  {
   "cell_type": "markdown",
   "id": "f3e599fb",
   "metadata": {},
   "source": [
    "This project entails harnessing cutting-edge digital tracking tools to capture real-time data on player movements during NBA games. We will employ sophisticated statistical analysis techniques to process the vast amount of information collected, focusing on shot frequency and shooting efficiency across various game situations and court locations. Additionally, predictive modeling techniques will be utilized to estimate the probability of shot success for each of the 20 esteemed NBA players included in the dataset. By leveraging advanced analytics and machine learning algorithms, we aim to extract actionable insights that can optimize player performance and inform strategic decision-making within our organization."
   ]
  },
  {
   "cell_type": "markdown",
   "id": "780a5fbf",
   "metadata": {},
   "source": [
    "### Economic Perspective:"
   ]
  },
  {
   "cell_type": "markdown",
   "id": "775a296b",
   "metadata": {},
   "source": [
    "Investing in this project holds significant economic potential for our organization within the sports industry. By leveraging data analytics to understand player performance and optimize strategic decision-making, we can gain a competitive edge on the court. Improved shot selection and efficiency among our players can lead to increased game success, fan engagement, and ultimately, revenue generation through ticket sales, merchandise, and sponsorships. Additionally, by demonstrating our commitment to data-driven approaches, we enhance our brand reputation and attract top talent, further bolstering our long-term economic viability and success in the market."
   ]
  },
  {
   "cell_type": "markdown",
   "id": "448e7aa2",
   "metadata": {},
   "source": [
    "### Scientific Perspective:"
   ]
  },
  {
   "cell_type": "markdown",
   "id": "88b678a2",
   "metadata": {},
   "source": [
    "This project represents an opportunity to advance the scientific understanding of basketball performance through rigorous data analysis and predictive modeling. By examining shot data from top NBA players in various game contexts, we aim to uncover underlying patterns and trends that contribute to successful outcomes on the court. Through the application of statistical methods and machine learning algorithms, we can identify key factors influencing shot selection and effectiveness, contributing to the broader body of knowledge in sports analytics. Moreover, the insights gained from this research have the potential to inform coaching strategies, player development programs, and future scientific inquiries into sports performance optimization."
   ]
  },
  {
   "cell_type": "markdown",
   "id": "6173409e",
   "metadata": {},
   "source": [
    "## Functional and Non-Functional Requirements"
   ]
  },
  {
   "cell_type": "markdown",
   "id": "0583b614",
   "metadata": {},
   "source": [
    "### Functional Requirements:"
   ]
  },
  {
   "cell_type": "markdown",
   "id": "c78dbcbc",
   "metadata": {},
   "source": [
    "- The system should predict the likelihood of a shot being successful based on historical shot data.\n",
    "- The system should allow users to input new shot data and receive predictions in real-time."
   ]
  },
  {
   "cell_type": "markdown",
   "id": "daf40fdc",
   "metadata": {},
   "source": [
    "### Non-Functional Requirements:"
   ]
  },
  {
   "cell_type": "markdown",
   "id": "0cc5b0a4",
   "metadata": {},
   "source": [
    "- **Accuracy**: The model should achieve an accuracy of at least 60%.\n",
    "- **Performance**: The system should handle up to 1,000 concurrent users without performance degradation.\n",
    "- **Usability**: The user interface should be intuitive and easy to navigate for both technical and non-technical users.\n",
    "- **Reliability**: The system should have an uptime of 99.9%.\n",
    "- **Scalability**: The system should be able to scale to accommodate increasing amounts of data and users."
   ]
  },
  {
   "cell_type": "markdown",
   "id": "fbd6eb87",
   "metadata": {},
   "source": [
    "## Data Requirements"
   ]
  },
  {
   "cell_type": "markdown",
   "id": "fb4b93c7",
   "metadata": {},
   "source": [
    "- **Data Storage and Management**: Ensure a robust data storage and management system capable of handling large volumes of data. This includes storing historical data for model training, as well as new incoming data for retraining.\n",
    "- **Data Preprocessing Pipeline**: Develop an automated data preprocessing pipeline to prepare new incoming data for model retraining. This includes cleaning, transforming, and standardizing the data to ensure consistency and compatibility with the model.\n",
    "- **Model Retraining Strategy**: Define a strategy for periodically retraining the model using new incoming data. This ensures that the model remains up-to-date and continues to provide accurate predictions over time.\n",
    "- **Model Versioning and Deployment**: Establish a system for versioning and deploying trained models to production. This enables seamless integration of updated models while maintaining stability and reliability of the production environment."
   ]
  },
  {
   "cell_type": "markdown",
   "id": "d0e72c68",
   "metadata": {},
   "source": [
    "## Model Objectives and Outputs"
   ]
  },
  {
   "cell_type": "markdown",
   "id": "7c32bb70",
   "metadata": {},
   "source": [
    "- **Objective**: Predict shot success.\n",
    "- **Outputs**: Probability score for each shot."
   ]
  },
  {
   "cell_type": "markdown",
   "id": "f536cc3c",
   "metadata": {},
   "source": [
    "## System Architecture"
   ]
  },
  {
   "cell_type": "markdown",
   "id": "790f528a",
   "metadata": {},
   "source": [
    "- **Data Ingestion Pipeline**: Data from Kaggle (https://www.kaggle.com/datasets/jonathangmwl/nba-shot-locations) is collected, cleaned, transformed into a standard format, splited into training and testing sets and loaded into a separate joblib file. This ensures high-quality, consistent data for analysis.\n",
    "- **Model Training and Deployment**: A random forest model is trained to predict shot success probability and deployed in Docker containers. The model processes real-time data inputs and provides predictions.\n",
    "- **User Interface**: The UI, (<font color=red>***should be discussed with the team***</font>), allows users to input new shot data and view real-time predictions."
   ]
  },
  {
   "cell_type": "markdown",
   "id": "6c1c7c1b",
   "metadata": {},
   "source": [
    "## Evaluation Metrics"
   ]
  },
  {
   "cell_type": "markdown",
   "id": "2d976a24",
   "metadata": {},
   "source": [
    "- **System performance**: Response time, throughput."
   ]
  },
  {
   "cell_type": "code",
   "execution_count": null,
   "id": "f393e44e",
   "metadata": {},
   "outputs": [],
   "source": []
  }
 ],
 "metadata": {
  "kernelspec": {
   "display_name": "Python 3 (ipykernel)",
   "language": "python",
   "name": "python3"
  },
  "language_info": {
   "codemirror_mode": {
    "name": "ipython",
    "version": 3
   },
   "file_extension": ".py",
   "mimetype": "text/x-python",
   "name": "python",
   "nbconvert_exporter": "python",
   "pygments_lexer": "ipython3",
   "version": "3.11.5"
  }
 },
 "nbformat": 4,
 "nbformat_minor": 5
}
